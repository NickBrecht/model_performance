{
  "nbformat": 4,
  "nbformat_minor": 0,
  "metadata": {
    "colab": {
      "name": "Untitled1.ipynb",
      "version": "0.3.2",
      "provenance": [],
      "collapsed_sections": [],
      "include_colab_link": true
    },
    "kernelspec": {
      "name": "python3",
      "display_name": "Python 3"
    }
  },
  "cells": [
    {
      "cell_type": "markdown",
      "metadata": {
        "id": "view-in-github",
        "colab_type": "text"
      },
      "source": [
        "<a href=\"https://colab.research.google.com/github/NickBrecht/model_performance/blob/master/RF%20vs.%20XGB.ipynb\" target=\"_parent\"><img src=\"https://colab.research.google.com/assets/colab-badge.svg\" alt=\"Open In Colab\"/></a>"
      ]
    },
    {
      "cell_type": "markdown",
      "metadata": {
        "id": "UqNadsPSLxhY",
        "colab_type": "text"
      },
      "source": [
        "# **Model Performance**"
      ]
    },
    {
      "cell_type": "markdown",
      "metadata": {
        "id": "xWVKDYVlLvaF",
        "colab_type": "text"
      },
      "source": [
        "We'll import & organize data, then run some simple tests on classifers from sklearn as well as xgboost. "
      ]
    },
    {
      "cell_type": "code",
      "metadata": {
        "id": "4zOpG0feLv6m",
        "colab_type": "code",
        "colab": {}
      },
      "source": [
        "from xgboost import XGBClassifier\n",
        "from sklearn.ensemble import RandomForestClassifier, GradientBoostingClassifier\n",
        "from sklearn.model_selection import train_test_split\n",
        "from sklearn import datasets\n",
        "from sklearn.metrics import accuracy_score\n",
        "from lightgbm import LGBMClassifier\n",
        "from lightgbm import LGBMClassifier\n"
      ],
      "execution_count": 0,
      "outputs": []
    },
    {
      "cell_type": "code",
      "metadata": {
        "id": "_hO524kUFwgv",
        "colab_type": "code",
        "colab": {}
      },
      "source": [
        "iris = datasets.load_iris()\n",
        "\n",
        "import pandas as pd\n",
        "\n",
        "x=pd.DataFrame({\n",
        "    'sepal length':iris.data[:,0],\n",
        "    'sepal width':iris.data[:,1],\n",
        "    'petal length':iris.data[:,2],\n",
        "    'petal width':iris.data[:,3]\n",
        "})"
      ],
      "execution_count": 0,
      "outputs": []
    },
    {
      "cell_type": "code",
      "metadata": {
        "id": "-z6WpWLnFwjG",
        "colab_type": "code",
        "colab": {}
      },
      "source": [
        "x_train, x_test, y_train, y_test = train_test_split(x, iris.target, test_size=0.3)"
      ],
      "execution_count": 0,
      "outputs": []
    },
    {
      "cell_type": "markdown",
      "metadata": {
        "id": "18w8xfPoL-Xm",
        "colab_type": "text"
      },
      "source": [
        "### Models"
      ]
    },
    {
      "cell_type": "markdown",
      "metadata": {
        "id": "W0pzR5PyMn0m",
        "colab_type": "text"
      },
      "source": [
        "We'll limit the n_estimators to 100 and keep other params as default. We will leverage n_jobs where possible. "
      ]
    },
    {
      "cell_type": "code",
      "metadata": {
        "id": "nvysP5wFFwl5",
        "colab_type": "code",
        "colab": {}
      },
      "source": [
        "ran = RandomForestClassifier(n_estimators=100,n_jobs= -1, random_state=310)\n",
        "gbc = GradientBoostingClassifier(n_estimators=100, random_state=310) # does not support n_jobs? :(\n",
        "xgb = XGBClassifier(n_estimators=100,n_jobs= -1,random_state=310)\n",
        "lgbm = LGBMClassifier(objective='multiclass', random_state=310, n_jobs=-1)"
      ],
      "execution_count": 0,
      "outputs": []
    },
    {
      "cell_type": "markdown",
      "metadata": {
        "id": "7gX3gBeCMCOX",
        "colab_type": "text"
      },
      "source": [
        "### Testing"
      ]
    },
    {
      "cell_type": "code",
      "metadata": {
        "id": "7oQByG3MHnht",
        "colab_type": "code",
        "colab": {
          "base_uri": "https://localhost:8080/",
          "height": 34
        },
        "outputId": "2e4c6f24-5730-478c-f42b-a7a1fbf28279"
      },
      "source": [
        "%timeit -n 100 ran.fit(x_train,y_train)"
      ],
      "execution_count": 5,
      "outputs": [
        {
          "output_type": "stream",
          "text": [
            "100 loops, best of 3: 149 ms per loop\n"
          ],
          "name": "stdout"
        }
      ]
    },
    {
      "cell_type": "code",
      "metadata": {
        "id": "W3q-8VujH2QQ",
        "colab_type": "code",
        "colab": {
          "base_uri": "https://localhost:8080/",
          "height": 34
        },
        "outputId": "0d0d25ba-f0f2-4ba8-8c9e-b45ffc917c08"
      },
      "source": [
        "%timeit -n 100 gbc.fit(x_train,y_train)"
      ],
      "execution_count": 6,
      "outputs": [
        {
          "output_type": "stream",
          "text": [
            "100 loops, best of 3: 166 ms per loop\n"
          ],
          "name": "stdout"
        }
      ]
    },
    {
      "cell_type": "code",
      "metadata": {
        "id": "eqDyg981H2S5",
        "colab_type": "code",
        "colab": {
          "base_uri": "https://localhost:8080/",
          "height": 34
        },
        "outputId": "14a402e3-ab4d-4d26-e097-298f86595fa2"
      },
      "source": [
        "%timeit -n 100 xgb.fit(x_train,y_train)"
      ],
      "execution_count": 7,
      "outputs": [
        {
          "output_type": "stream",
          "text": [
            "100 loops, best of 3: 26.7 ms per loop\n"
          ],
          "name": "stdout"
        }
      ]
    },
    {
      "cell_type": "code",
      "metadata": {
        "id": "120q1ozDQdOv",
        "colab_type": "code",
        "colab": {
          "base_uri": "https://localhost:8080/",
          "height": 34
        },
        "outputId": "48e5bf07-414c-4b48-de21-b4d7f5ebdcbd"
      },
      "source": [
        "%timeit -n 100 lgbm.fit(x_train,y_train)"
      ],
      "execution_count": 8,
      "outputs": [
        {
          "output_type": "stream",
          "text": [
            "100 loops, best of 3: 29.6 ms per loop\n"
          ],
          "name": "stdout"
        }
      ]
    },
    {
      "cell_type": "markdown",
      "metadata": {
        "id": "bcQvWTOGMHyq",
        "colab_type": "text"
      },
      "source": [
        "### XGB completes in about 1/5th the time of Random Forest. LGBM does almost as well."
      ]
    },
    {
      "cell_type": "markdown",
      "metadata": {
        "id": "PRfGbV6_NK-o",
        "colab_type": "text"
      },
      "source": [
        "# Accuracy"
      ]
    },
    {
      "cell_type": "code",
      "metadata": {
        "id": "3rbNsUh2NGp2",
        "colab_type": "code",
        "colab": {
          "base_uri": "https://localhost:8080/",
          "height": 85
        },
        "outputId": "66fa3b6a-ff11-4342-ed8e-adb9e415491b"
      },
      "source": [
        "print(f\"Random Forest accuracy:{accuracy_score(y_test, ran.predict(x_test))}\")\n",
        "print(f\"Normal Gradient Boosting accuracy:{accuracy_score(y_test, gbc.predict(x_test))}\")\n",
        "print(f\"XGB accuracy:{accuracy_score(y_test, xgb.predict(x_test))}\")\n",
        "print(f\"LGBM accuracy:{accuracy_score(y_test, lgbm.predict(x_test))}\")"
      ],
      "execution_count": 9,
      "outputs": [
        {
          "output_type": "stream",
          "text": [
            "Random Forest accuracy:0.9555555555555556\n",
            "Normal Gradient Boosting accuracy:0.9555555555555556\n",
            "XGB accuracy:0.9555555555555556\n",
            "LGBM accuracy:0.9555555555555556\n"
          ],
          "name": "stdout"
        }
      ]
    },
    {
      "cell_type": "markdown",
      "metadata": {
        "id": "aakp_pAIOdhm",
        "colab_type": "text"
      },
      "source": [
        "I found random_state to have huge impact on the models. Using 310, they seem to all do about the same. Random Forest did have slightly better performance when using lower random_states. All models seem to have ballpark same accuracy scores."
      ]
    }
  ]
}